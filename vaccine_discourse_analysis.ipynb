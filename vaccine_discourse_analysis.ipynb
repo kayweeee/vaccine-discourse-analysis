{
 "cells": [
  {
   "cell_type": "markdown",
   "metadata": {},
   "source": [
    "# Vaccine Discourse Analysis\n",
    "## **Table of Contents**\n",
    "1. [Set Up](#section-1)\n",
    "2. [Data Preprocessing](#section-2)   \n",
    "    2.1 Processing the initial dataset   \n",
    "    2.2 Cleaning the tweets\n",
    "3. \n"
   ]
  },
  {
   "cell_type": "markdown",
   "metadata": {},
   "source": [
    "### **Set Up** <a class='anchor' id='section-1'></a>    \n",
    "\n",
    "Import Necessary Packages"
   ]
  },
  {
   "cell_type": "code",
   "execution_count": 19,
   "metadata": {},
   "outputs": [],
   "source": [
    "import numpy as np\n",
    "import pandas as pd\n",
    "import re       "
   ]
  },
  {
   "cell_type": "markdown",
   "metadata": {},
   "source": [
    "Read the CSV file"
   ]
  },
  {
   "cell_type": "code",
   "execution_count": 20,
   "metadata": {},
   "outputs": [
    {
     "name": "stderr",
     "output_type": "stream",
     "text": [
      "c:\\Users\\tanka\\anaconda3\\lib\\site-packages\\IPython\\core\\interactiveshell.py:3071: DtypeWarning: Columns (13) have mixed types.Specify dtype option on import or set low_memory=False.\n",
      "  has_raised = await self.run_ast_nodes(code_ast.body, cell_name,\n"
     ]
    },
    {
     "data": {
      "text/html": [
       "<div>\n",
       "<style scoped>\n",
       "    .dataframe tbody tr th:only-of-type {\n",
       "        vertical-align: middle;\n",
       "    }\n",
       "\n",
       "    .dataframe tbody tr th {\n",
       "        vertical-align: top;\n",
       "    }\n",
       "\n",
       "    .dataframe thead th {\n",
       "        text-align: right;\n",
       "    }\n",
       "</style>\n",
       "<table border=\"1\" class=\"dataframe\">\n",
       "  <thead>\n",
       "    <tr style=\"text-align: right;\">\n",
       "      <th></th>\n",
       "      <th>id</th>\n",
       "      <th>created_at</th>\n",
       "      <th>date</th>\n",
       "      <th>time</th>\n",
       "      <th>timezone</th>\n",
       "      <th>place</th>\n",
       "      <th>tweet</th>\n",
       "      <th>language</th>\n",
       "      <th>replies_count</th>\n",
       "      <th>retweets_count</th>\n",
       "      <th>likes_count</th>\n",
       "      <th>hashtags</th>\n",
       "      <th>cashtags</th>\n",
       "      <th>retweet</th>\n",
       "      <th>video</th>\n",
       "      <th>thumbnail</th>\n",
       "    </tr>\n",
       "  </thead>\n",
       "  <tbody>\n",
       "    <tr>\n",
       "      <th>0</th>\n",
       "      <td>1.385880e+18</td>\n",
       "      <td>2021-04-24 08:43:17 UTC</td>\n",
       "      <td>4/24/2021</td>\n",
       "      <td>8:43:17</td>\n",
       "      <td>0</td>\n",
       "      <td>NaN</td>\n",
       "      <td>🇨🇺: ✍️ Covid-19 en Cuba: 1241 nuevos casos pos...</td>\n",
       "      <td>es</td>\n",
       "      <td>0.0</td>\n",
       "      <td>0.0</td>\n",
       "      <td>0.0</td>\n",
       "      <td>['reportando', 'cuba']</td>\n",
       "      <td>[]</td>\n",
       "      <td>False</td>\n",
       "      <td>0.0</td>\n",
       "      <td>NaN</td>\n",
       "    </tr>\n",
       "    <tr>\n",
       "      <th>1</th>\n",
       "      <td>1.385880e+18</td>\n",
       "      <td>2021-04-24 08:43:17 UTC</td>\n",
       "      <td>4/24/2021</td>\n",
       "      <td>8:43:17</td>\n",
       "      <td>0</td>\n",
       "      <td>NaN</td>\n",
       "      <td>The latest The Zika Advice Paper!  https://t.c...</td>\n",
       "      <td>en</td>\n",
       "      <td>0.0</td>\n",
       "      <td>0.0</td>\n",
       "      <td>0.0</td>\n",
       "      <td>['covid19', 'amr']</td>\n",
       "      <td>[]</td>\n",
       "      <td>False</td>\n",
       "      <td>0.0</td>\n",
       "      <td>NaN</td>\n",
       "    </tr>\n",
       "    <tr>\n",
       "      <th>2</th>\n",
       "      <td>1.385880e+18</td>\n",
       "      <td>2021-04-24 08:43:16 UTC</td>\n",
       "      <td>4/24/2021</td>\n",
       "      <td>8:43:16</td>\n",
       "      <td>0</td>\n",
       "      <td>NaN</td>\n",
       "      <td>Tum karo toh mantra ..woh kare toh tantra ..ai...</td>\n",
       "      <td>tl</td>\n",
       "      <td>0.0</td>\n",
       "      <td>0.0</td>\n",
       "      <td>0.0</td>\n",
       "      <td>['covidindia', 'covidvaccine', 'covidresources...</td>\n",
       "      <td>[]</td>\n",
       "      <td>False</td>\n",
       "      <td>1.0</td>\n",
       "      <td>https://pbs.twimg.com/media/EzufwnkUYA0TExx.jpg</td>\n",
       "    </tr>\n",
       "    <tr>\n",
       "      <th>3</th>\n",
       "      <td>1.385880e+18</td>\n",
       "      <td>2021-04-24 08:43:16 UTC</td>\n",
       "      <td>4/24/2021</td>\n",
       "      <td>8:43:16</td>\n",
       "      <td>0</td>\n",
       "      <td>NaN</td>\n",
       "      <td>https://t.co/4rdhSH3IYl  Prime Minister @Nare...</td>\n",
       "      <td>en</td>\n",
       "      <td>0.0</td>\n",
       "      <td>0.0</td>\n",
       "      <td>0.0</td>\n",
       "      <td>['covid_19']</td>\n",
       "      <td>[]</td>\n",
       "      <td>False</td>\n",
       "      <td>1.0</td>\n",
       "      <td>https://pbs.twimg.com/media/EzueSRxVgAEiTie.jpg</td>\n",
       "    </tr>\n",
       "    <tr>\n",
       "      <th>4</th>\n",
       "      <td>1.385880e+18</td>\n",
       "      <td>2021-04-24 08:43:16 UTC</td>\n",
       "      <td>4/24/2021</td>\n",
       "      <td>8:43:16</td>\n",
       "      <td>0</td>\n",
       "      <td>NaN</td>\n",
       "      <td>@bc_pt64 @KackCake @sherlockine1 @SternchenJvB...</td>\n",
       "      <td>de</td>\n",
       "      <td>0.0</td>\n",
       "      <td>0.0</td>\n",
       "      <td>0.0</td>\n",
       "      <td>[]</td>\n",
       "      <td>[]</td>\n",
       "      <td>False</td>\n",
       "      <td>0.0</td>\n",
       "      <td>NaN</td>\n",
       "    </tr>\n",
       "  </tbody>\n",
       "</table>\n",
       "</div>"
      ],
      "text/plain": [
       "             id               created_at       date     time  timezone place  \\\n",
       "0  1.385880e+18  2021-04-24 08:43:17 UTC  4/24/2021  8:43:17         0   NaN   \n",
       "1  1.385880e+18  2021-04-24 08:43:17 UTC  4/24/2021  8:43:17         0   NaN   \n",
       "2  1.385880e+18  2021-04-24 08:43:16 UTC  4/24/2021  8:43:16         0   NaN   \n",
       "3  1.385880e+18  2021-04-24 08:43:16 UTC  4/24/2021  8:43:16         0   NaN   \n",
       "4  1.385880e+18  2021-04-24 08:43:16 UTC  4/24/2021  8:43:16         0   NaN   \n",
       "\n",
       "                                               tweet language  replies_count  \\\n",
       "0  🇨🇺: ✍️ Covid-19 en Cuba: 1241 nuevos casos pos...       es            0.0   \n",
       "1  The latest The Zika Advice Paper!  https://t.c...       en            0.0   \n",
       "2  Tum karo toh mantra ..woh kare toh tantra ..ai...       tl            0.0   \n",
       "3   https://t.co/4rdhSH3IYl  Prime Minister @Nare...       en            0.0   \n",
       "4  @bc_pt64 @KackCake @sherlockine1 @SternchenJvB...       de            0.0   \n",
       "\n",
       "   retweets_count  likes_count  \\\n",
       "0             0.0          0.0   \n",
       "1             0.0          0.0   \n",
       "2             0.0          0.0   \n",
       "3             0.0          0.0   \n",
       "4             0.0          0.0   \n",
       "\n",
       "                                            hashtags cashtags retweet  video  \\\n",
       "0                             ['reportando', 'cuba']       []   False    0.0   \n",
       "1                                 ['covid19', 'amr']       []   False    0.0   \n",
       "2  ['covidindia', 'covidvaccine', 'covidresources...       []   False    1.0   \n",
       "3                                       ['covid_19']       []   False    1.0   \n",
       "4                                                 []       []   False    0.0   \n",
       "\n",
       "                                         thumbnail  \n",
       "0                                              NaN  \n",
       "1                                              NaN  \n",
       "2  https://pbs.twimg.com/media/EzufwnkUYA0TExx.jpg  \n",
       "3  https://pbs.twimg.com/media/EzueSRxVgAEiTie.jpg  \n",
       "4                                              NaN  "
      ]
     },
     "execution_count": 20,
     "metadata": {},
     "output_type": "execute_result"
    }
   ],
   "source": [
    "df = pd.read_csv('TweetsAboutCovid-19.csv')\n",
    "df.head()"
   ]
  },
  {
   "cell_type": "markdown",
   "metadata": {},
   "source": [
    "Understanding the initial dataset by looking at the column names, the types of the columns, and how many null entries are in each column."
   ]
  },
  {
   "cell_type": "code",
   "execution_count": 21,
   "metadata": {},
   "outputs": [
    {
     "data": {
      "text/plain": [
       "id                float64\n",
       "created_at         object\n",
       "date               object\n",
       "time               object\n",
       "timezone            int64\n",
       "place              object\n",
       "tweet              object\n",
       "language           object\n",
       "replies_count     float64\n",
       "retweets_count    float64\n",
       "likes_count       float64\n",
       "hashtags           object\n",
       "cashtags           object\n",
       "retweet            object\n",
       "video             float64\n",
       "thumbnail          object\n",
       "dtype: object"
      ]
     },
     "execution_count": 21,
     "metadata": {},
     "output_type": "execute_result"
    }
   ],
   "source": [
    "df.dtypes"
   ]
  },
  {
   "cell_type": "code",
   "execution_count": 22,
   "metadata": {},
   "outputs": [
    {
     "name": "stdout",
     "output_type": "stream",
     "text": [
      "shape of dataframe: (803645, 16)\n"
     ]
    },
    {
     "data": {
      "text/plain": [
       "id                     0\n",
       "created_at             0\n",
       "date                   0\n",
       "time                   0\n",
       "timezone               0\n",
       "place             802765\n",
       "tweet                  0\n",
       "language               1\n",
       "replies_count          1\n",
       "retweets_count         1\n",
       "likes_count            1\n",
       "hashtags               1\n",
       "cashtags               1\n",
       "retweet                1\n",
       "video                  1\n",
       "thumbnail         570664\n",
       "dtype: int64"
      ]
     },
     "execution_count": 22,
     "metadata": {},
     "output_type": "execute_result"
    }
   ],
   "source": [
    "print('shape of dataframe:', df.shape)\n",
    "df.isnull().sum()"
   ]
  },
  {
   "cell_type": "markdown",
   "metadata": {},
   "source": [
    "### **Data Preprocessing** <a class='anchor' id='section-2'></a>\n",
    "\n",
    "#### Processing the initial dataset   \n",
    "***Drop columns that we will not be using in this project***    \n",
    "\n",
    "We will remove the place and thumbnail columns due to a large number of missing entries. They are also not necessary for the objectives of this project. \n",
    "\n",
    "Based on the objectives of this project, we will only need the ids, date, time, tweet, language, replies_count, retweets_count, likes_count, and hashtags columns from the dataset. We will remove the other columns. "
   ]
  },
  {
   "cell_type": "code",
   "execution_count": 23,
   "metadata": {},
   "outputs": [
    {
     "data": {
      "text/html": [
       "<div>\n",
       "<style scoped>\n",
       "    .dataframe tbody tr th:only-of-type {\n",
       "        vertical-align: middle;\n",
       "    }\n",
       "\n",
       "    .dataframe tbody tr th {\n",
       "        vertical-align: top;\n",
       "    }\n",
       "\n",
       "    .dataframe thead th {\n",
       "        text-align: right;\n",
       "    }\n",
       "</style>\n",
       "<table border=\"1\" class=\"dataframe\">\n",
       "  <thead>\n",
       "    <tr style=\"text-align: right;\">\n",
       "      <th></th>\n",
       "      <th>id</th>\n",
       "      <th>date</th>\n",
       "      <th>time</th>\n",
       "      <th>tweet</th>\n",
       "      <th>language</th>\n",
       "      <th>replies_count</th>\n",
       "      <th>retweets_count</th>\n",
       "      <th>likes_count</th>\n",
       "      <th>hashtags</th>\n",
       "    </tr>\n",
       "  </thead>\n",
       "  <tbody>\n",
       "    <tr>\n",
       "      <th>0</th>\n",
       "      <td>1.385880e+18</td>\n",
       "      <td>4/24/2021</td>\n",
       "      <td>8:43:17</td>\n",
       "      <td>🇨🇺: ✍️ Covid-19 en Cuba: 1241 nuevos casos pos...</td>\n",
       "      <td>es</td>\n",
       "      <td>0.0</td>\n",
       "      <td>0.0</td>\n",
       "      <td>0.0</td>\n",
       "      <td>['reportando', 'cuba']</td>\n",
       "    </tr>\n",
       "    <tr>\n",
       "      <th>1</th>\n",
       "      <td>1.385880e+18</td>\n",
       "      <td>4/24/2021</td>\n",
       "      <td>8:43:17</td>\n",
       "      <td>The latest The Zika Advice Paper!  https://t.c...</td>\n",
       "      <td>en</td>\n",
       "      <td>0.0</td>\n",
       "      <td>0.0</td>\n",
       "      <td>0.0</td>\n",
       "      <td>['covid19', 'amr']</td>\n",
       "    </tr>\n",
       "    <tr>\n",
       "      <th>2</th>\n",
       "      <td>1.385880e+18</td>\n",
       "      <td>4/24/2021</td>\n",
       "      <td>8:43:16</td>\n",
       "      <td>Tum karo toh mantra ..woh kare toh tantra ..ai...</td>\n",
       "      <td>tl</td>\n",
       "      <td>0.0</td>\n",
       "      <td>0.0</td>\n",
       "      <td>0.0</td>\n",
       "      <td>['covidindia', 'covidvaccine', 'covidresources...</td>\n",
       "    </tr>\n",
       "    <tr>\n",
       "      <th>3</th>\n",
       "      <td>1.385880e+18</td>\n",
       "      <td>4/24/2021</td>\n",
       "      <td>8:43:16</td>\n",
       "      <td>https://t.co/4rdhSH3IYl  Prime Minister @Nare...</td>\n",
       "      <td>en</td>\n",
       "      <td>0.0</td>\n",
       "      <td>0.0</td>\n",
       "      <td>0.0</td>\n",
       "      <td>['covid_19']</td>\n",
       "    </tr>\n",
       "    <tr>\n",
       "      <th>4</th>\n",
       "      <td>1.385880e+18</td>\n",
       "      <td>4/24/2021</td>\n",
       "      <td>8:43:16</td>\n",
       "      <td>@bc_pt64 @KackCake @sherlockine1 @SternchenJvB...</td>\n",
       "      <td>de</td>\n",
       "      <td>0.0</td>\n",
       "      <td>0.0</td>\n",
       "      <td>0.0</td>\n",
       "      <td>[]</td>\n",
       "    </tr>\n",
       "  </tbody>\n",
       "</table>\n",
       "</div>"
      ],
      "text/plain": [
       "             id       date     time  \\\n",
       "0  1.385880e+18  4/24/2021  8:43:17   \n",
       "1  1.385880e+18  4/24/2021  8:43:17   \n",
       "2  1.385880e+18  4/24/2021  8:43:16   \n",
       "3  1.385880e+18  4/24/2021  8:43:16   \n",
       "4  1.385880e+18  4/24/2021  8:43:16   \n",
       "\n",
       "                                               tweet language  replies_count  \\\n",
       "0  🇨🇺: ✍️ Covid-19 en Cuba: 1241 nuevos casos pos...       es            0.0   \n",
       "1  The latest The Zika Advice Paper!  https://t.c...       en            0.0   \n",
       "2  Tum karo toh mantra ..woh kare toh tantra ..ai...       tl            0.0   \n",
       "3   https://t.co/4rdhSH3IYl  Prime Minister @Nare...       en            0.0   \n",
       "4  @bc_pt64 @KackCake @sherlockine1 @SternchenJvB...       de            0.0   \n",
       "\n",
       "   retweets_count  likes_count  \\\n",
       "0             0.0          0.0   \n",
       "1             0.0          0.0   \n",
       "2             0.0          0.0   \n",
       "3             0.0          0.0   \n",
       "4             0.0          0.0   \n",
       "\n",
       "                                            hashtags  \n",
       "0                             ['reportando', 'cuba']  \n",
       "1                                 ['covid19', 'amr']  \n",
       "2  ['covidindia', 'covidvaccine', 'covidresources...  \n",
       "3                                       ['covid_19']  \n",
       "4                                                 []  "
      ]
     },
     "execution_count": 23,
     "metadata": {},
     "output_type": "execute_result"
    }
   ],
   "source": [
    "df = df.drop([\"created_at\", \"timezone\", \"place\", 'cashtags', 'retweet', 'video', 'thumbnail'], axis=1)\n",
    "df.head()"
   ]
  },
  {
   "cell_type": "markdown",
   "metadata": {},
   "source": [
    "***Filtering for only English tweets***   \n",
    " \n",
    "We will filter and only use the tweets that are in English for easier understanding. We remove the language column after filtering."
   ]
  },
  {
   "cell_type": "code",
   "execution_count": 24,
   "metadata": {},
   "outputs": [
    {
     "name": "stdout",
     "output_type": "stream",
     "text": [
      "en     412115\n",
      "es     131519\n",
      "in      40841\n",
      "pt      33253\n",
      "hi      28140\n",
      "        ...  \n",
      "am         10\n",
      "ps          7\n",
      "ka          5\n",
      "dv          2\n",
      "ckb         2\n",
      "Name: language, Length: 64, dtype: int64\n"
     ]
    }
   ],
   "source": [
    "language_counts = df['language'].value_counts()\n",
    "print(language_counts)"
   ]
  },
  {
   "cell_type": "code",
   "execution_count": 25,
   "metadata": {},
   "outputs": [
    {
     "name": "stdout",
     "output_type": "stream",
     "text": [
      "en    412115\n",
      "Name: language, dtype: int64\n"
     ]
    }
   ],
   "source": [
    "df = df[df['language'] == 'en']\n",
    "new_language_counts = df['language'].value_counts()\n",
    "print(new_language_counts)\n",
    "\n",
    "df = df.drop(['language'], axis=1)"
   ]
  },
  {
   "cell_type": "markdown",
   "metadata": {},
   "source": [
    "***Check for null and duplicate entries***   \n",
    "\n",
    "Lastly, we will check for null or duplicate entries and remove those. "
   ]
  },
  {
   "cell_type": "code",
   "execution_count": 26,
   "metadata": {},
   "outputs": [
    {
     "data": {
      "text/plain": [
       "id                0\n",
       "date              0\n",
       "time              0\n",
       "tweet             0\n",
       "replies_count     0\n",
       "retweets_count    0\n",
       "likes_count       0\n",
       "hashtags          0\n",
       "dtype: int64"
      ]
     },
     "execution_count": 26,
     "metadata": {},
     "output_type": "execute_result"
    }
   ],
   "source": [
    "df = df.dropna()\n",
    "df.isnull().sum()"
   ]
  },
  {
   "cell_type": "code",
   "execution_count": 27,
   "metadata": {},
   "outputs": [
    {
     "name": "stdout",
     "output_type": "stream",
     "text": [
      "Number of duplications: 907\n",
      "Initial shape of dataframe: (412115, 8)\n",
      "Final shape of dataframe: (411208, 8)\n"
     ]
    }
   ],
   "source": [
    "duplicates = df[df.duplicated()]\n",
    "print(\"Number of duplications:\", len(duplicates))\n",
    "print(\"Initial shape of dataframe:\", df.shape)\n",
    "df = df.drop_duplicates()\n",
    "print(\"Final shape of dataframe:\", df.shape)"
   ]
  },
  {
   "cell_type": "markdown",
   "metadata": {},
   "source": [
    "#### Cleaning the tweets\n",
    "Before delving into data analysis, it's pivotal to clean the tweets. This is to ensure that we extract genuine insights when applying natural language processing (NLP) techniques.   \n",
    "\n",
    "The preprocessing function below cleans the dataset by removing:  \n",
    "- Hyperlinks  \n",
    "- `@mentions`  \n",
    "- Special characters  \n",
    "- Emojis  \n",
    "- Extra spaces  "
   ]
  },
  {
   "cell_type": "code",
   "execution_count": 34,
   "metadata": {},
   "outputs": [],
   "source": [
    "def pre_processing(text):\n",
    "    \"\"\"    \n",
    "    Parameters:\n",
    "    - text (str): The tweet text to be cleaned.\n",
    "    \n",
    "    Returns:\n",
    "    - str: The cleaned tweet text.\n",
    "    \"\"\"\n",
    "    \n",
    "    # Remove hyperlinks from the tweet\n",
    "    text = re.sub(r'https?:\\/\\/\\S+', '', text)\n",
    "    \n",
    "    # Remove @mentions, which are specific to Twitter posts\n",
    "    text = re.sub(r'@[A-Za-z0-9]+', '', text)\n",
    "    \n",
    "    # Remove newline escape sequences (like \\n) from the tweet\n",
    "    # to ensure the tweet text doesn't contain any line breaks\n",
    "    text = re.sub(r'\\n','', text) \n",
    "\n",
    "    # Keep only letters, numbers, and hashtags. \n",
    "    # All other characters are replaced with a space.\n",
    "    text = re.sub(r\"[^A-Za-z0-9#]+\", ' ', text)\n",
    "    \n",
    "    # Remove any extra spaces between words and any trailing or leading spaces\n",
    "    text = re.sub(r'\\s+', ' ', text).strip()\n",
    "    \n",
    "    return text\n",
    "\n",
    "# convert TWEET column from object to string\n",
    "df['tweet'] = df['tweet'].astype('string')\n",
    "\n",
    "# create a column for the cleaned tweets\n",
    "df['tweet_cleaned'] = df['tweet'].apply(pre_processing)\n",
    "df['tweet_cleaned'] = df['tweet_cleaned'].astype('string')"
   ]
  },
  {
   "cell_type": "markdown",
   "metadata": {},
   "source": [
    "Remove the rows containing empty strings (if any) in `text_cleaned`, since these tweets only contain links or mentions or special characters. "
   ]
  },
  {
   "cell_type": "code",
   "execution_count": 35,
   "metadata": {},
   "outputs": [
    {
     "name": "stdout",
     "output_type": "stream",
     "text": [
      "shape of df before (411208, 9)\n",
      "shape of df after (411208, 9)\n"
     ]
    }
   ],
   "source": [
    "print('shape of df before', df.shape)\n",
    "df = df[df['tweet_cleaned'] != '']\n",
    "print('shape of df after',df.shape)"
   ]
  },
  {
   "cell_type": "markdown",
   "metadata": {},
   "source": [
    "Next, we remove **stop words** from the tweets. Tweets often contain a high frequency of common words, known as stop words, that do not contribute significantly to the meaning of the text.    \n",
    "\n",
    "By eliminating these stopwords, such as articles, prepositions, and conjunctions, the remaining content becomes more focused on essential keywords and meaningful context. This reduction in noise not only simplifies the data but also improves the performance of downstream NLP tasks.   \n",
    "\n",
    "Additionally, removing stopwords aids in reducing the dimensionality of the data, making the computational processes more resource-efficient and expediting the training of machine learning models. \n",
    "\n",
    "We will make use of the list of English stop words from Python `NLTK` (Natural Language Toolkit)."
   ]
  },
  {
   "cell_type": "code",
   "execution_count": 31,
   "metadata": {},
   "outputs": [
    {
     "name": "stderr",
     "output_type": "stream",
     "text": [
      "[nltk_data] Downloading package stopwords to\n",
      "[nltk_data]     C:\\Users\\tanka\\AppData\\Roaming\\nltk_data...\n",
      "[nltk_data]   Unzipping corpora\\stopwords.zip.\n"
     ]
    },
    {
     "data": {
      "text/plain": [
       "True"
      ]
     },
     "execution_count": 31,
     "metadata": {},
     "output_type": "execute_result"
    }
   ],
   "source": [
    "# Importing the stopwords list from the Natural Language Toolkit (NLTK).\n",
    "import nltk\n",
    "from nltk.corpus import stopwords\n",
    "\n",
    "nltk.download(\"stopwords\")"
   ]
  },
  {
   "cell_type": "code",
   "execution_count": 39,
   "metadata": {},
   "outputs": [],
   "source": [
    "stopwords = stopwords.words(\"english\")\n",
    "\n",
    "def remove_stopwords(text):\n",
    "    \"\"\"\n",
    "    Parameters:\n",
    "    - text (str): The input text from which stopwords need to be removed.\n",
    "    \n",
    "    Returns:\n",
    "    - str: The text with stopwords removed.\n",
    "    \"\"\"\n",
    "    processed_string = text.lower().split()\n",
    "    filtered_text = []\n",
    "    \n",
    "    for word in processed_string:\n",
    "        if word not in stopwords:\n",
    "            filtered_text.append(word)        \n",
    "    \n",
    "    filtered_text = \" \".join(filtered_text)\n",
    "    \n",
    "    return filtered_text\n",
    "\n",
    "# create a column for no stop words from tweet_cleaned\n",
    "df['tweet_no_stop'] = df['tweet_cleaned'].apply(remove_stopwords)"
   ]
  },
  {
   "cell_type": "code",
   "execution_count": 40,
   "metadata": {},
   "outputs": [
    {
     "data": {
      "text/html": [
       "<div>\n",
       "<style scoped>\n",
       "    .dataframe tbody tr th:only-of-type {\n",
       "        vertical-align: middle;\n",
       "    }\n",
       "\n",
       "    .dataframe tbody tr th {\n",
       "        vertical-align: top;\n",
       "    }\n",
       "\n",
       "    .dataframe thead th {\n",
       "        text-align: right;\n",
       "    }\n",
       "</style>\n",
       "<table border=\"1\" class=\"dataframe\">\n",
       "  <thead>\n",
       "    <tr style=\"text-align: right;\">\n",
       "      <th></th>\n",
       "      <th>id</th>\n",
       "      <th>date</th>\n",
       "      <th>time</th>\n",
       "      <th>tweet</th>\n",
       "      <th>replies_count</th>\n",
       "      <th>retweets_count</th>\n",
       "      <th>likes_count</th>\n",
       "      <th>hashtags</th>\n",
       "      <th>tweet_cleaned</th>\n",
       "      <th>tweet_no_stop</th>\n",
       "    </tr>\n",
       "  </thead>\n",
       "  <tbody>\n",
       "    <tr>\n",
       "      <th>1</th>\n",
       "      <td>1.385880e+18</td>\n",
       "      <td>4/24/2021</td>\n",
       "      <td>8:43:17</td>\n",
       "      <td>The latest The Zika Advice Paper!  https://t.c...</td>\n",
       "      <td>0.0</td>\n",
       "      <td>0.0</td>\n",
       "      <td>0.0</td>\n",
       "      <td>['covid19', 'amr']</td>\n",
       "      <td>The latest The Zika Advice Paper Thanks to #co...</td>\n",
       "      <td>latest zika advice paper thanks #covid19 #amr</td>\n",
       "    </tr>\n",
       "    <tr>\n",
       "      <th>3</th>\n",
       "      <td>1.385880e+18</td>\n",
       "      <td>4/24/2021</td>\n",
       "      <td>8:43:16</td>\n",
       "      <td>https://t.co/4rdhSH3IYl  Prime Minister @Nare...</td>\n",
       "      <td>0.0</td>\n",
       "      <td>0.0</td>\n",
       "      <td>0.0</td>\n",
       "      <td>['covid_19']</td>\n",
       "      <td>Prime Minister on Saturday said that like last...</td>\n",
       "      <td>prime minister saturday said like last year pr...</td>\n",
       "    </tr>\n",
       "    <tr>\n",
       "      <th>5</th>\n",
       "      <td>1.385880e+18</td>\n",
       "      <td>4/24/2021</td>\n",
       "      <td>8:43:16</td>\n",
       "      <td>Covid-19: India is going through very terrible...</td>\n",
       "      <td>0.0</td>\n",
       "      <td>0.0</td>\n",
       "      <td>0.0</td>\n",
       "      <td>['presssangharsh', 'dailynews', 'news', 'india...</td>\n",
       "      <td>Covid 19 India is going through very terrible ...</td>\n",
       "      <td>covid 19 india going terrible situation says d...</td>\n",
       "    </tr>\n",
       "    <tr>\n",
       "      <th>6</th>\n",
       "      <td>1.385880e+18</td>\n",
       "      <td>4/24/2021</td>\n",
       "      <td>8:43:15</td>\n",
       "      <td>@CPBlr @KamalPantIPS speaks to me on the rules...</td>\n",
       "      <td>0.0</td>\n",
       "      <td>0.0</td>\n",
       "      <td>0.0</td>\n",
       "      <td>['covid19']</td>\n",
       "      <td>speaks to me on the rules that people will hav...</td>\n",
       "      <td>speaks rules people follow volunteers bengalur...</td>\n",
       "    </tr>\n",
       "    <tr>\n",
       "      <th>7</th>\n",
       "      <td>1.385880e+18</td>\n",
       "      <td>4/24/2021</td>\n",
       "      <td>8:43:14</td>\n",
       "      <td>@Physio_voice @BiswabhusanHC @ysjagan @Audimul...</td>\n",
       "      <td>0.0</td>\n",
       "      <td>0.0</td>\n",
       "      <td>0.0</td>\n",
       "      <td>[]</td>\n",
       "      <td>voice Namaste sir we are the NTRUHS Physiother...</td>\n",
       "      <td>voice namaste sir ntruhs physiotherapy student...</td>\n",
       "    </tr>\n",
       "  </tbody>\n",
       "</table>\n",
       "</div>"
      ],
      "text/plain": [
       "             id       date     time  \\\n",
       "1  1.385880e+18  4/24/2021  8:43:17   \n",
       "3  1.385880e+18  4/24/2021  8:43:16   \n",
       "5  1.385880e+18  4/24/2021  8:43:16   \n",
       "6  1.385880e+18  4/24/2021  8:43:15   \n",
       "7  1.385880e+18  4/24/2021  8:43:14   \n",
       "\n",
       "                                               tweet  replies_count  \\\n",
       "1  The latest The Zika Advice Paper!  https://t.c...            0.0   \n",
       "3   https://t.co/4rdhSH3IYl  Prime Minister @Nare...            0.0   \n",
       "5  Covid-19: India is going through very terrible...            0.0   \n",
       "6  @CPBlr @KamalPantIPS speaks to me on the rules...            0.0   \n",
       "7  @Physio_voice @BiswabhusanHC @ysjagan @Audimul...            0.0   \n",
       "\n",
       "   retweets_count  likes_count  \\\n",
       "1             0.0          0.0   \n",
       "3             0.0          0.0   \n",
       "5             0.0          0.0   \n",
       "6             0.0          0.0   \n",
       "7             0.0          0.0   \n",
       "\n",
       "                                            hashtags  \\\n",
       "1                                 ['covid19', 'amr']   \n",
       "3                                       ['covid_19']   \n",
       "5  ['presssangharsh', 'dailynews', 'news', 'india...   \n",
       "6                                        ['covid19']   \n",
       "7                                                 []   \n",
       "\n",
       "                                       tweet_cleaned  \\\n",
       "1  The latest The Zika Advice Paper Thanks to #co...   \n",
       "3  Prime Minister on Saturday said that like last...   \n",
       "5  Covid 19 India is going through very terrible ...   \n",
       "6  speaks to me on the rules that people will hav...   \n",
       "7  voice Namaste sir we are the NTRUHS Physiother...   \n",
       "\n",
       "                                       tweet_no_stop  \n",
       "1      latest zika advice paper thanks #covid19 #amr  \n",
       "3  prime minister saturday said like last year pr...  \n",
       "5  covid 19 india going terrible situation says d...  \n",
       "6  speaks rules people follow volunteers bengalur...  \n",
       "7  voice namaste sir ntruhs physiotherapy student...  "
      ]
     },
     "execution_count": 40,
     "metadata": {},
     "output_type": "execute_result"
    }
   ],
   "source": [
    "df.head()"
   ]
  },
  {
   "cell_type": "markdown",
   "metadata": {},
   "source": [
    "### **Data Visualization** <a class='anchor' id='section-2'></a>\n"
   ]
  }
 ],
 "metadata": {
  "kernelspec": {
   "display_name": "Python 3",
   "language": "python",
   "name": "python3"
  },
  "language_info": {
   "codemirror_mode": {
    "name": "ipython",
    "version": 3
   },
   "file_extension": ".py",
   "mimetype": "text/x-python",
   "name": "python",
   "nbconvert_exporter": "python",
   "pygments_lexer": "ipython3",
   "version": "3.8.3"
  }
 },
 "nbformat": 4,
 "nbformat_minor": 2
}
